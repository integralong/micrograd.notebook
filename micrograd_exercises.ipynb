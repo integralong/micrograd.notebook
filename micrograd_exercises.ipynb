{
 "cells": [
  {
   "cell_type": "code",
   "execution_count": 5,
   "id": "28ffbeb0-bdca-4ccc-8bbc-8ef7b6c1985f",
   "metadata": {},
   "outputs": [
    {
     "name": "stdout",
     "output_type": "stream",
     "text": [
      "6.336362190988558\n"
     ]
    }
   ],
   "source": [
    "# here is a mathematical expression that takes 3 inputs and produces one output\n",
    "from math import sin, cos\n",
    "\n",
    "def f(a, b, c):\n",
    "    return -a**3 + sin(3*b) - 1.0/c + b**2.5 - a**0.5\n",
    "\n",
    "print(f(2, 3, 4))"
   ]
  },
  {
   "cell_type": "code",
   "execution_count": 6,
   "id": "2a8d91ac-dbd7-4dfe-b7dd-1792d9a25971",
   "metadata": {},
   "outputs": [
    {
     "name": "stdout",
     "output_type": "stream",
     "text": [
      "OK for dim 0: expected -12.353553390593273, yours returns -12.353553390593273\n",
      "WRONG! for dim 1: expected 10.25699027111255, yours returns -2.7333907856540307\n",
      "OK for dim 2: expected 0.0625, yours returns 0.0625\n"
     ]
    }
   ],
   "source": [
    "# write the function df that returns the analytical gradient of f\n",
    "# i.e. use your skills from calculus to take the derivative, then implement the formula\n",
    "# if you do not calculus then feel free to ask wolframalpha, e.g.:\n",
    "# https://www.wolframalpha.com/input?i=d%2Fda%28sin%283*a%29%29%29\n",
    "\n",
    "def gradf(a, b, c):\n",
    "  df_da = -3*a**2 - 0.5*a**(-0.5)\n",
    "  df_db = 3*cos(3*b)\n",
    "  df_dc = 1/(c**2)\n",
    "  return [df_da, df_db, df_dc] # todo, return [df/da, df/db, df/dc]\n",
    "\n",
    "# expected answer is the list of \n",
    "ans = [-12.353553390593273, 10.25699027111255, 0.0625]\n",
    "yours = gradf(2, 3, 4)\n",
    "for dim in range(3):\n",
    "  ok = 'OK' if abs(yours[dim] - ans[dim]) < 1e-5 else 'WRONG!'\n",
    "  print(f\"{ok} for dim {dim}: expected {ans[dim]}, yours returns {yours[dim]}\")\n"
   ]
  },
  {
   "cell_type": "code",
   "execution_count": 7,
   "id": "2f19c49d-dfd0-4ea2-b154-e7915b496edd",
   "metadata": {},
   "outputs": [
    {
     "name": "stdout",
     "output_type": "stream",
     "text": [
      "OK for dim 0: expected -12.353553390593273, yours returns -12.353559348809995\n",
      "OK for dim 1: expected 10.25699027111255, yours returns 10.256991666679482\n",
      "OK for dim 2: expected 0.0625, yours returns 0.062499984743169534\n"
     ]
    }
   ],
   "source": [
    "# now estimate the gradient numerically without any calculus, using\n",
    "# the approximation we used in the video.\n",
    "# you should not call the function df from the last cell\n",
    "\n",
    "\n",
    "a, b, c = 2, 3, 4\n",
    "\n",
    "# let h (small perturbation)\n",
    "h = 0.000001\n",
    "# -----------\n",
    "numerical_grad = [] # TODO\n",
    "# -----------\n",
    "for i, var in enumerate([a, b, c]):\n",
    "    inputs = [a, b, c]\n",
    "    inputs[i] += h # add h to the i-th variable\n",
    "    L1 = f(*inputs)\n",
    "    L2 = f(a, b, c)\n",
    "    grad_i = (L1 - L2) / h\n",
    "    numerical_grad.append(grad_i)\n",
    "\n",
    "\n",
    "\n",
    "\n",
    "\n",
    "for dim in range(3):\n",
    "  ok = 'OK' if abs(numerical_grad[dim] - ans[dim]) < 1e-5 else 'WRONG!'\n",
    "  print(f\"{ok} for dim {dim}: expected {ans[dim]}, yours returns {numerical_grad[dim]}\")\n"
   ]
  },
  {
   "cell_type": "code",
   "execution_count": 8,
   "id": "beb050e0-7fd4-471f-83de-e95710887ed7",
   "metadata": {},
   "outputs": [
    {
     "name": "stdout",
     "output_type": "stream",
     "text": [
      "OK for dim 0: expected -12.353553390593273, yours returns -12.353553391353245\n",
      "OK for dim 1: expected 10.25699027111255, yours returns 10.25699027401572\n",
      "OK for dim 2: expected 0.0625, yours returns 0.06250000028629188\n"
     ]
    }
   ],
   "source": [
    "# there is an alternative formula that provides a much better numerical \n",
    "# approximation to the derivative of a function.\n",
    "# learn about it here: https://en.wikipedia.org/wiki/Symmetric_derivative\n",
    "# implement it. confirm that for the same step size h this version gives a\n",
    "# better approximation.\n",
    "a, b, c = 2, 3, 4\n",
    "\n",
    "# let h (small perturbation)\n",
    "h = 0.000001\n",
    "\n",
    "\n",
    "# -----------\n",
    "numerical_grad2 = [] # TODO\n",
    "# -----------\n",
    "for i, var in enumerate([a, b, c]):\n",
    "    inputs_pos = [a, b, c]\n",
    "    inputs_neg = [a, b, c]\n",
    "\n",
    "    inputs_pos[i] +=h\n",
    "    inputs_neg[i] -=h\n",
    "\n",
    "    L3 = f(*inputs_pos)\n",
    "    L4 = f(*inputs_neg)\n",
    "\n",
    "    grad_i = (L3-L4) / (2*h)    # symmetric derivative formula\n",
    "    numerical_grad2.append(grad_i)\n",
    "    \n",
    "for dim in range(3):\n",
    "  ok = 'OK' if abs(numerical_grad2[dim] - ans[dim]) < 1e-5 else 'WRONG!'\n",
    "  print(f\"{ok} for dim {dim}: expected {ans[dim]}, yours returns {numerical_grad2[dim]}\")"
   ]
  },
  {
   "cell_type": "code",
   "execution_count": 9,
   "id": "47fce328-ac39-4672-a4d5-ec369260e603",
   "metadata": {},
   "outputs": [],
   "source": [
    "from math import exp as math_exp, log as math_log\n",
    "\n",
    "class Value:\n",
    "    def __init__(self, data, _children=(), _op='', label=''):\n",
    "        self.data = data\n",
    "        self.grad = 0.0\n",
    "        self._backward = lambda: None\n",
    "        self._prev = set(_children)\n",
    "        self._op = _op\n",
    "        self.label = label\n",
    "\n",
    "    def __repr__(self):\n",
    "        return f\"Value(data={self.data})\"\n",
    "\n",
    "    def __add__(self, other):\n",
    "        other = other if isinstance(other, Value) else Value(other)\n",
    "        out = Value(self.data + other.data, (self, other), '+')\n",
    "\n",
    "        def _backward():\n",
    "            self.grad += 1.0 * out.grad\n",
    "            other.grad += 1.0 * out.grad\n",
    "        out._backward = _backward\n",
    "\n",
    "        return out\n",
    "\n",
    "    def __sub__(self, other):\n",
    "        return self + (-other)\n",
    "\n",
    "    def __neg__(self):\n",
    "        return self * -1\n",
    "\n",
    "    def __truediv__(self, other):\n",
    "        other = other if isinstance(other, Value) else Value(other)\n",
    "        return self * other**-1\n",
    "\n",
    "    def __mul__(self, other):\n",
    "        other = other if isinstance(other, Value) else Value(other)\n",
    "        out = Value(self.data * other.data, (self, other), '*')\n",
    "\n",
    "        def _backward():\n",
    "            self.grad += other.data * out.grad\n",
    "            other.grad += self.data * out.grad\n",
    "        out._backward = _backward\n",
    "        return out\n",
    "\n",
    "    def __pow__(self, power):\n",
    "        assert isinstance(power, (int, float))\n",
    "        out = Value(self.data ** power, (self,), f'**{power}')\n",
    "\n",
    "        def _backward():\n",
    "            self.grad += (power * self.data ** (power - 1)) * out.grad\n",
    "        out._backward = _backward\n",
    "        return out\n",
    "\n",
    "    def exp(self):\n",
    "        out = Value(math_exp(self.data), (self,), 'exp')\n",
    "\n",
    "        def _backward():\n",
    "            self.grad += out.data * out.grad\n",
    "        out._backward = _backward\n",
    "        return out\n",
    "\n",
    "    def log(self):\n",
    "        out = Value(math_log(self.data), (self,), 'log')\n",
    "\n",
    "        def _backward():\n",
    "            self.grad += (1 / self.data) * out.grad\n",
    "        out._backward = _backward\n",
    "        return out\n",
    "\n",
    "    def __radd__(self, other):\n",
    "        return self + other  # that's a kick. it was the main error. >> representing sum(counts) at denominator\n",
    "\n",
    "    def backward(self):\n",
    "        topo = []\n",
    "        visited = set()\n",
    "\n",
    "        def build_topo(v):\n",
    "            if v not in visited:\n",
    "                visited.add(v)\n",
    "                for child in v._prev:\n",
    "                    build_topo(child)\n",
    "                topo.append(v)\n",
    "\n",
    "        build_topo(self)\n",
    "\n",
    "        self.grad = 1.0\n",
    "        for node in reversed(topo):\n",
    "            node._backward()\n"
   ]
  },
  {
   "cell_type": "code",
   "execution_count": 10,
   "id": "a65413fb-fdf2-473b-abdc-6f320566bdf5",
   "metadata": {},
   "outputs": [
    {
     "name": "stdout",
     "output_type": "stream",
     "text": [
      "2.1755153626167147\n",
      "OK for dim 0: expected 0.041772570515350445, yours returns 0.041772570515350445\n",
      "OK for dim 1: expected 0.8390245074625319, yours returns 0.8390245074625319\n",
      "OK for dim 2: expected 0.005653302662216329, yours returns 0.005653302662216329\n",
      "OK for dim 3: expected -0.8864503806400986, yours returns -0.8864503806400986\n"
     ]
    }
   ],
   "source": [
    "# without referencing our code/video __too__ much, make this cell work\n",
    "# you'll have to implement (in some cases re-implemented) a number of functions\n",
    "# of the Value object, similar to what we've seen in the video.\n",
    "# instead of the squared error loss this implements the negative log likelihood\n",
    "# loss, which is very often used in classification.\n",
    "\n",
    "# this is the softmax function\n",
    "# https://en.wikipedia.org/wiki/Softmax_function\n",
    "def softmax(logits):\n",
    "  counts = [logit.exp() for logit in logits]\n",
    "  denominator = sum(counts)\n",
    "  out = [c / denominator for c in counts]\n",
    "  return out\n",
    "\n",
    "# this is the negative log likelihood loss function, pervasive in classification\n",
    "logits = [Value(0.0), Value(3.0), Value(-2.0), Value(1.0)]\n",
    "probs = softmax(logits)\n",
    "loss = -probs[3].log() # dim 3 acts as the label for this input example\n",
    "loss.backward()\n",
    "print(loss.data)\n",
    "\n",
    "ans = [0.041772570515350445, 0.8390245074625319, 0.005653302662216329, -0.8864503806400986]\n",
    "for dim in range(4):\n",
    "  ok = 'OK' if abs(logits[dim].grad - ans[dim]) < 1e-5 else 'WRONG!'\n",
    "  print(f\"{ok} for dim {dim}: expected {ans[dim]}, yours returns {logits[dim].grad}\")"
   ]
  },
  {
   "cell_type": "code",
   "execution_count": null,
   "id": "cb9ded54-3373-44ae-94d2-91a0999f07fd",
   "metadata": {},
   "outputs": [
    {
     "name": "stdout",
     "output_type": "stream",
     "text": [
      "tensor([2., 3.])\n"
     ]
    }
   ],
   "source": [
    "# stpe 1: tensors are like smart arrays\n",
    "\n",
    "import torch\n",
    "x = torch.tensor([2.0, 3.0]) # a 1D tensor(like a list)\n",
    "print(x)\n",
    "\n",
    "# this looks like a NumPy array."
   ]
  },
  {
   "cell_type": "code",
   "execution_count": 18,
   "id": "9f854d40",
   "metadata": {},
   "outputs": [
    {
     "name": "stdout",
     "output_type": "stream",
     "text": [
      "tensor(5.)\n"
     ]
    }
   ],
   "source": [
    "# step 2: basic math\n",
    "a = torch.tensor(2.0)\n",
    "b = torch.tensor(3.0)\n",
    "c = a + b # still a tensor\n",
    "print(c)"
   ]
  },
  {
   "cell_type": "code",
   "execution_count": 20,
   "id": "5ca76651",
   "metadata": {},
   "outputs": [
    {
     "name": "stdout",
     "output_type": "stream",
     "text": [
      "tensor(10.9093)\n"
     ]
    }
   ],
   "source": [
    "c = a * b\n",
    "d = a ** 2\n",
    "e = torch.sin(a)\n",
    "f = c + d + e\n",
    "print(f)"
   ]
  },
  {
   "cell_type": "code",
   "execution_count": 21,
   "id": "e1e2546f",
   "metadata": {},
   "outputs": [
    {
     "name": "stdout",
     "output_type": "stream",
     "text": [
      "tensor(7.)\n"
     ]
    }
   ],
   "source": [
    "# step 3: let pytorch compute gradients\n",
    "x = torch.tensor(2.0, requires_grad= True) # track gradients\n",
    "y = x**2 + 3*x + 1\n",
    "\n",
    "y.backward() # compute dy/dx\n",
    "\n",
    "print(x.grad) # will print 7.0 (the derivative at x = 2)"
   ]
  },
  {
   "cell_type": "code",
   "execution_count": 24,
   "id": "44380365",
   "metadata": {},
   "outputs": [
    {
     "name": "stdout",
     "output_type": "stream",
     "text": [
      "Loss: 2.1755154132843018\n",
      "Gradient: tensor([ 0.0418,  0.8390,  0.0057, -0.8865])\n"
     ]
    }
   ],
   "source": [
    "# step 4: softmax + cross\n",
    "\n",
    "# verify the gradient using the torch library\n",
    "# torch should give you the exact same gradient\n",
    "\n",
    "logits = torch.tensor([0.0, 3.0, -2.0, 1.0], requires_grad = True)\n",
    "\n",
    "# softmax\n",
    "probs = torch.nn.functional.softmax(logits, dim=0)\n",
    "\n",
    "# negative log likelihood loss : asuume label is class 2\n",
    "loss = -torch.log(probs[3])\n",
    "\n",
    "loss.backward()\n",
    "print(\"Loss:\", loss.item())\n",
    "print(\"Gradient:\", logits.grad)"
   ]
  }
 ],
 "metadata": {
  "kernelspec": {
   "display_name": "base",
   "language": "python",
   "name": "python3"
  },
  "language_info": {
   "codemirror_mode": {
    "name": "ipython",
    "version": 3
   },
   "file_extension": ".py",
   "mimetype": "text/x-python",
   "name": "python",
   "nbconvert_exporter": "python",
   "pygments_lexer": "ipython3",
   "version": "3.11.8"
  }
 },
 "nbformat": 4,
 "nbformat_minor": 5
}
